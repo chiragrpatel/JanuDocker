{
 "cells": [
  {
   "cell_type": "code",
   "execution_count": 1,
   "id": "prostate-worthy",
   "metadata": {},
   "outputs": [],
   "source": [
    "# Import necessary library\n",
    "import boto3\n",
    "import pandas as pd\n",
    "\n",
    "#Define needed variables\n",
    "raw_bucket = 'vw-cred-datalake-dev-raw'\n",
    "curated_bucket = 'vw-cred-datalake-dev-curated'\n",
    "transform_bucket = 'vw-cred-datalake-dev-transformed'\n",
    "\n",
    "my_file = 'test.csv'\n",
    "\n",
    "\n",
    "s3 = boto3.client('s3')\n",
    "\n",
    "raw_bucket_objects = s3.list_objects(Bucket=raw_bucket)\n",
    "curated_bucket_objects = s3.list_objects(Bucket=curated_bucket)\n",
    "transform_bucket_objects = s3.list_objects(Bucket=transform_bucket)"
   ]
  },
  {
   "cell_type": "code",
   "execution_count": 2,
   "id": "western-guarantee",
   "metadata": {},
   "outputs": [
    {
     "name": "stdout",
     "output_type": "stream",
     "text": [
      "raw_test_data.csv\n",
      "   col1  col2\n",
      "0     1     2\n",
      "1     3     4\n",
      "2     6     7\n"
     ]
    }
   ],
   "source": [
    "#Raw bucket objects\n",
    "for i in range(len(raw_bucket_objects['Contents'])):\n",
    "    key = raw_bucket_objects['Contents'][i]['Key']\n",
    "    print(key)\n",
    "    obj = s3.get_object(Bucket= raw_bucket, Key= key) \n",
    "    vehicle_data_df = pd.read_csv(obj['Body']) # 'Body' is a key word\n",
    "    print(vehicle_data_df)"
   ]
  },
  {
   "cell_type": "code",
   "execution_count": 3,
   "id": "virgin-ocean",
   "metadata": {},
   "outputs": [
    {
     "name": "stdout",
     "output_type": "stream",
     "text": [
      "curated_test_data.csv\n",
      "   col1  col2\n",
      "0     1     2\n",
      "1     3     4\n",
      "2     6     7\n"
     ]
    }
   ],
   "source": [
    "#Curated bucket objects\n",
    "for i in range(len(curated_bucket_objects['Contents'])):\n",
    "    key = curated_bucket_objects['Contents'][i]['Key']\n",
    "    print(key)\n",
    "    obj = s3.get_object(Bucket= curated_bucket, Key= key) \n",
    "    vehicle_data_df = pd.read_csv(obj['Body']) # 'Body' is a key word\n",
    "    print(vehicle_data_df)"
   ]
  },
  {
   "cell_type": "code",
   "execution_count": 4,
   "id": "mexican-turning",
   "metadata": {},
   "outputs": [
    {
     "name": "stdout",
     "output_type": "stream",
     "text": [
      "transformed_test_data.csv\n",
      "   col1  col2\n",
      "0     1     2\n",
      "1     3     4\n",
      "2     6     7\n"
     ]
    }
   ],
   "source": [
    "#Transformed bucket objects\n",
    "for i in range(len(transform_bucket_objects['Contents'])):\n",
    "    key = transform_bucket_objects['Contents'][i]['Key']\n",
    "    print(key)\n",
    "    obj = s3.get_object(Bucket= transform_bucket, Key= key) \n",
    "    vehicle_data_df = pd.read_csv(obj['Body']) # 'Body' is a key word\n",
    "    print(vehicle_data_df)"
   ]
  },
  {
   "cell_type": "code",
   "execution_count": null,
   "id": "sustainable-methodology",
   "metadata": {},
   "outputs": [],
   "source": []
  }
 ],
 "metadata": {
  "kernelspec": {
   "display_name": "conda_python3",
   "language": "python",
   "name": "conda_python3"
  },
  "language_info": {
   "codemirror_mode": {
    "name": "ipython",
    "version": 3
   },
   "file_extension": ".py",
   "mimetype": "text/x-python",
   "name": "python",
   "nbconvert_exporter": "python",
   "pygments_lexer": "ipython3",
   "version": "3.6.10"
  }
 },
 "nbformat": 4,
 "nbformat_minor": 5
}
